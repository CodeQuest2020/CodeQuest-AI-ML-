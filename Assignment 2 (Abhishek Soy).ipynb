{
 "cells": [
  {
   "cell_type": "code",
   "execution_count": 3,
   "metadata": {},
   "outputs": [
    {
     "name": "stdout",
     "output_type": "stream",
     "text": [
      "Enter a Number: 31\n",
      "Guess a Number: 12\n",
      "Your guess is low.\n",
      "\n",
      "Want to try again 'y' for 'yes' press any other key for exit. \n",
      "Enter Your Choice: y\n",
      "Guess a Number: 10\n",
      "Your guess is low.\n",
      "\n",
      "Want to try again 'y' for 'yes' press any other key for exit. \n",
      "Enter Your Choice: y\n",
      "Guess a Number: 45\n",
      "Your guess is high.\n",
      "\n",
      "Want to try again 'y' for 'yes' press any other key for exit. \n",
      "Enter Your Choice: n\n"
     ]
    }
   ],
   "source": [
    "# Problem 1\n",
    "## You decide you want to play a game where you are hiding a number from\n",
    "## someone. Store this number in a variable called 'answer'. Another user provides a\n",
    "## number called 'guess'. By comparing guess to answer, you inform the user if their\n",
    "## guess is too high or too low. \n",
    "\n",
    "\n",
    "answer = int(input ( \"Enter a Number: \" ))\n",
    "while True :                        #iterate until guess is correct or user exit itself by pressing key other than 'y' or 'Y'\n",
    "    guess = int(input ( \"Guess a Number: \" ))\n",
    "    if guess == answer :\n",
    "        print(\"Congrats! You guessed the correct number.\")\n",
    "        break\n",
    "    elif guess > answer :\n",
    "        print(\"Your guess is high.\")\n",
    "    else :\n",
    "        print(\"Your guess is low.\")\n",
    "    print(\"\")\n",
    "    print ( \"Want to try again 'y' for 'yes' press any other key for exit. \")\n",
    "    ch=input(\"Enter Your Choice: \")                   #accepts user choice for iteration\n",
    "    if ch != \"y\" and ch != \"Y\":\n",
    "        break                                         #exit the loop"
   ]
  },
  {
   "cell_type": "code",
   "execution_count": 2,
   "metadata": {},
   "outputs": [
    {
     "name": "stdout",
     "output_type": "stream",
     "text": [
      "***Whole Numbers***\n",
      "[0, 5, 10, 15, 20, 25, 30]\n"
     ]
    }
   ],
   "source": [
    "# Problem 2\n",
    "# Write a for loop below that will print out every whole number that is a multiple of 5\n",
    "# and less than or equal to 30.\n",
    "\n",
    "\n",
    "li=[]\n",
    "for n in range(31) :                         #iterates 0 to 30\n",
    "    if n % 5 == 0 :\n",
    "        li.append(n)                         #add n value into list\n",
    "print(\"***Whole Numbers***\")\n",
    "print(li)"
   ]
  },
  {
   "cell_type": "code",
   "execution_count": 1,
   "metadata": {},
   "outputs": [
    {
     "name": "stdout",
     "output_type": "stream",
     "text": [
      "Enter Limit: 100\n",
      "Nearest Square:  81\n"
     ]
    }
   ],
   "source": [
    "# Problem 3\n",
    "## Write a while loop that finds the largest square number less than an integerlimit\n",
    "## and stores it in a variable nearest_square. A square number is the product of an\n",
    "## integer multiplied by itself, for example 36 is a square number because it equals\n",
    "\n",
    "\n",
    "limit = int( input ( \"Enter Limit: \" ) )\n",
    "n = 1\n",
    "while n * n < limit :                            #iterates until n*n is less than limit value\n",
    "    n += 1\n",
    "n -= 1                                           #decrease by 1 because here n*n <limit is false\n",
    "nearest_square = n * n \n",
    "print(\"Nearest Square: \",nearest_square)"
   ]
  },
  {
   "cell_type": "code",
   "execution_count": null,
   "metadata": {},
   "outputs": [],
   "source": []
  }
 ],
 "metadata": {
  "kernelspec": {
   "display_name": "Python 3",
   "language": "python",
   "name": "python3"
  },
  "language_info": {
   "codemirror_mode": {
    "name": "ipython",
    "version": 3
   },
   "file_extension": ".py",
   "mimetype": "text/x-python",
   "name": "python",
   "nbconvert_exporter": "python",
   "pygments_lexer": "ipython3",
   "version": "3.7.6"
  }
 },
 "nbformat": 4,
 "nbformat_minor": 4
}
