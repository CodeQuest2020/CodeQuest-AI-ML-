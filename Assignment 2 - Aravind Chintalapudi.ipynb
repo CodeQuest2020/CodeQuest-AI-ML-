{
 "cells": [
  {
   "cell_type": "markdown",
   "metadata": {},
   "source": [
    "Question 1: You decide you want to play a game where you are hiding a number from\n",
    "someone. Store this number in a variable called 'answer'. Another user provides a\n",
    "number called 'guess'. By comparing guess to answer, you inform the user if their\n",
    "guess is too high or too low."
   ]
  },
  {
   "cell_type": "code",
   "execution_count": 1,
   "metadata": {},
   "outputs": [
    {
     "name": "stdout",
     "output_type": "stream",
     "text": [
      "Guess a number: 45\n",
      "Guessed number is lower than expected\n",
      "Guess a number: 60\n",
      "Guessed number is higher than expected\n",
      "Guess a number: 56\n",
      "The guessed number is same as expected\n"
     ]
    }
   ],
   "source": [
    "answer=56\n",
    "guess=-1\n",
    "while(guess!=answer):\n",
    "    guess=int(input('Guess a number: '))\n",
    "    if(guess>answer):\n",
    "        print(\"Guessed number is higher than expected\")\n",
    "    if(guess<answer):\n",
    "        print(\"Guessed number is lower than expected\")\n",
    "print(\"The guessed number is same as expected\")"
   ]
  },
  {
   "cell_type": "markdown",
   "metadata": {},
   "source": [
    "Question 2: Write a for loop below that will print out every whole number that is a multiple of 5\n",
    "and less than or equal to 30."
   ]
  },
  {
   "cell_type": "code",
   "execution_count": 2,
   "metadata": {},
   "outputs": [
    {
     "name": "stdout",
     "output_type": "stream",
     "text": [
      "5 10 15 20 25 30 "
     ]
    }
   ],
   "source": [
    "for i in range(5,31,5):\n",
    "    print(i,end=' ')"
   ]
  },
  {
   "cell_type": "markdown",
   "metadata": {},
   "source": [
    "Question 3: Write a while loop that finds the largest square number less than an integerlimit\n",
    "and stores it in a variable nearest_square. A square number is the product of an\n",
    "integer multiplied by itself, for example 36 is a square number because it equals\n",
    "6*6."
   ]
  },
  {
   "cell_type": "code",
   "execution_count": null,
   "metadata": {},
   "outputs": [],
   "source": []
  }
 ],
 "metadata": {
  "kernelspec": {
   "display_name": "Python 3",
   "language": "python",
   "name": "python3"
  },
  "language_info": {
   "codemirror_mode": {
    "name": "ipython",
    "version": 3
   },
   "file_extension": ".py",
   "mimetype": "text/x-python",
   "name": "python",
   "nbconvert_exporter": "python",
   "pygments_lexer": "ipython3",
   "version": "3.6.9"
  }
 },
 "nbformat": 4,
 "nbformat_minor": 2
}
