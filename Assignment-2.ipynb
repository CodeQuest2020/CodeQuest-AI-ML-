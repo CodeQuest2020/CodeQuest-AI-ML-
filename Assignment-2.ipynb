{
 "cells": [
  {
   "cell_type": "markdown",
   "metadata": {},
   "source": [
    "#### Name: Sravanth Vishnu Avvaru\n",
    "#### Email: sravanthvishnu07@gmail.com\n",
    "#### Contact Number: 9866563580\n",
    "# Assignment-2"
   ]
  },
  {
   "cell_type": "markdown",
   "metadata": {},
   "source": [
    "#### 1. You decide you want to play a game where you are hiding a number from someone. Store this number in a variable called 'answer'. Another user provides a number called 'guess'. By comparing guess to answer, you inform the user if their guess is too high or too low."
   ]
  },
  {
   "cell_type": "code",
   "execution_count": 1,
   "metadata": {},
   "outputs": [
    {
     "name": "stdout",
     "output_type": "stream",
     "text": [
      "Guess a number:50\n",
      " Guess is too high \n"
     ]
    }
   ],
   "source": [
    "answer=25\n",
    "\n",
    "guess=input(\"Guess a number:\")\n",
    "    \n",
    "if  int(guess) > answer :\n",
    "    print ( \" Guess is too high \" )\n",
    "    \n",
    "elif int(guess) < answer : \n",
    "    print ( \" Guess is too low \" )\n",
    "    \n",
    "else : \n",
    "    print ( \" Hurray !! you guessed it \")\n"
   ]
  },
  {
   "cell_type": "code",
   "execution_count": null,
   "metadata": {},
   "outputs": [],
   "source": []
  },
  {
   "cell_type": "markdown",
   "metadata": {},
   "source": [
    "#### 2. Write a for loop below that will print out every whole number that is a multiple of 5 and less than or equal to 30."
   ]
  },
  {
   "cell_type": "code",
   "execution_count": 2,
   "metadata": {},
   "outputs": [
    {
     "name": "stdout",
     "output_type": "stream",
     "text": [
      "Whole numbers that is a multiple of 5 and less than or equal to 30 are [0, 5, 10, 15, 20, 25, 30]\n"
     ]
    }
   ],
   "source": [
    "multiples=[i for i in range (0,31,5)]\n",
    "\n",
    "print(\"Whole numbers that is a multiple of 5 and less than or equal to 30 are {}\".format(multiples))"
   ]
  },
  {
   "cell_type": "code",
   "execution_count": null,
   "metadata": {},
   "outputs": [],
   "source": []
  },
  {
   "cell_type": "markdown",
   "metadata": {},
   "source": [
    "#### 3. Write a while loop that finds the largest square number less than an integer limit and stores it in a variable nearest_square. A square number is the product of an integer multiplied by itself, for example 36 is a square number because it equals 6*6."
   ]
  },
  {
   "cell_type": "code",
   "execution_count": null,
   "metadata": {},
   "outputs": [],
   "source": []
  },
  {
   "cell_type": "code",
   "execution_count": 3,
   "metadata": {},
   "outputs": [
    {
     "name": "stdout",
     "output_type": "stream",
     "text": [
      "The largest square number less than an integer limit is 961\n"
     ]
    }
   ],
   "source": [
    "limit = 1000\n",
    "\n",
    "number = 0 \n",
    "\n",
    "while (number +1)**2 < limit:\n",
    "    number += 1\n",
    "\n",
    "nearest_square = (number)**2\n",
    "\n",
    "print(\"The largest square number less than an integer limit is {}\".format(nearest_square))"
   ]
  },
  {
   "cell_type": "code",
   "execution_count": null,
   "metadata": {},
   "outputs": [],
   "source": []
  }
 ],
 "metadata": {
  "kernelspec": {
   "display_name": "Python 3",
   "language": "python",
   "name": "python3"
  },
  "language_info": {
   "codemirror_mode": {
    "name": "ipython",
    "version": 3
   },
   "file_extension": ".py",
   "mimetype": "text/x-python",
   "name": "python",
   "nbconvert_exporter": "python",
   "pygments_lexer": "ipython3",
   "version": "3.7.7"
  }
 },
 "nbformat": 4,
 "nbformat_minor": 4
}
