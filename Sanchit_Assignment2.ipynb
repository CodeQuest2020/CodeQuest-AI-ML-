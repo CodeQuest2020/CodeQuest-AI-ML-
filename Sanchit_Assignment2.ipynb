{
 "cells": [
  {
   "cell_type": "code",
   "execution_count": 1,
   "metadata": {},
   "outputs": [
    {
     "name": "stdout",
     "output_type": "stream",
     "text": [
      "!!!!!!! Welcome To The Game of Guess !!!!!!!\n",
      "\n",
      "Enter your Guess Between 0-10 \n",
      "4\n",
      "Your Answer is low\n",
      "\n",
      "Re-enter Your Guess\n",
      "6\n",
      "Your Answer is low\n",
      "\n",
      "Re-enter Your Guess\n",
      "9\n",
      "Your Aswer is High\n",
      "\n",
      "Re-enter Your Guess\n",
      "8\n",
      "Congratulations Your Guess is Correct\n"
     ]
    }
   ],
   "source": [
    "answer = 8\n",
    "guess = 0\n",
    "\n",
    "print (\"!!!!!!! Welcome To The Game of Guess !!!!!!!\\n\")\n",
    "\n",
    "guess = int(input(\"Enter your Guess Between 0-10 \\n\"))\n",
    "\n",
    "while (guess != answer):\n",
    "    if guess < answer:\n",
    "        print(\"Your Answer is low\\n\")\n",
    "        guess = int(input(\"Re-enter Your Guess\\n\"))\n",
    "    if guess > answer:\n",
    "        print(\"Your Aswer is High\\n\")\n",
    "        guess = int(input(\"Re-enter Your Guess\\n\"))\n",
    "        \n",
    "print(\"Congratulations Your Guess is Correct\")"
   ]
  },
  {
   "cell_type": "code",
   "execution_count": 12,
   "metadata": {},
   "outputs": [
    {
     "name": "stdout",
     "output_type": "stream",
     "text": [
      "0\n",
      "5\n",
      "10\n",
      "15\n",
      "20\n",
      "25\n",
      "30\n"
     ]
    }
   ],
   "source": [
    "for i in range(100):\n",
    "    if(i%5==0)and(i<=30):\n",
    "        print (i)"
   ]
  },
  {
   "cell_type": "code",
   "execution_count": 1,
   "metadata": {},
   "outputs": [
    {
     "name": "stdout",
     "output_type": "stream",
     "text": [
      "81\n"
     ]
    }
   ],
   "source": [
    "limit = 85\n",
    "number = 0\n",
    "while (number+1)**2<limit:\n",
    "    number += 1\n",
    "    nearest_square = (number)**2  \n",
    "print(nearest_square)"
   ]
  }
 ],
 "metadata": {
  "kernelspec": {
   "display_name": "Python 3",
   "language": "python",
   "name": "python3"
  },
  "language_info": {
   "codemirror_mode": {
    "name": "ipython",
    "version": 3
   },
   "file_extension": ".py",
   "mimetype": "text/x-python",
   "name": "python",
   "nbconvert_exporter": "python",
   "pygments_lexer": "ipython3",
   "version": "3.7.7"
  }
 },
 "nbformat": 4,
 "nbformat_minor": 4
}
