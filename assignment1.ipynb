{
 "cells": [
  {
   "cell_type": "code",
   "execution_count": 1,
   "metadata": {},
   "outputs": [],
   "source": [
    "                                                     #assignment1"
   ]
  },
  {
   "cell_type": "code",
   "execution_count": 4,
   "metadata": {},
   "outputs": [
    {
     "name": "stdout",
     "output_type": "stream",
     "text": [
      "{'shangai': 17.8, 'istanbul': 13.3, 'karachi': 13.0, 'mumbai': 12.5}\n"
     ]
    }
   ],
   "source": [
    "\n",
    "#question1\n",
    "population={\"shangai\":17.8,\"istanbul\":13.3,\"karachi\":13.0,\"mumbai\":12.5}\n",
    "print(population)"
   ]
  },
  {
   "cell_type": "code",
   "execution_count": 8,
   "metadata": {},
   "outputs": [
    {
     "name": "stdout",
     "output_type": "stream",
     "text": [
      "[20, 10, 15, 8, 32, 15]\n",
      "8\n",
      "[0.3, 0.5, 0.8, 0.3, 1]\n"
     ]
    }
   ],
   "source": [
    "#question2\n",
    "animals={\"dogs\":[20,10,15,8,32,15],\"cats\":[3,4,2,8,2,4],\"rabbits\":[2,3,3],\"fish\":[0.3,0.5,0.8,0.3,1]}\n",
    "print(animals['dogs'])\n",
    "print(animals['dogs'][3])\n",
    "#animals[3]----------->error\n",
    "print(animals['fish'])"
   ]
  },
  {
   "cell_type": "code",
   "execution_count": 9,
   "metadata": {},
   "outputs": [
    {
     "name": "stdout",
     "output_type": "stream",
     "text": [
      "6\n"
     ]
    }
   ],
   "source": [
    "\n",
    "#question3\n",
    "a=[1,2,2,3,3,3,4,4,4,4]\n",
    "b=set(a)\n",
    "print(len(a)-len(b))"
   ]
  },
  {
   "cell_type": "code",
   "execution_count": 10,
   "metadata": {},
   "outputs": [
    {
     "name": "stdout",
     "output_type": "stream",
     "text": [
      "True\n",
      "4\n"
     ]
    }
   ],
   "source": [
    "#question4\n",
    "tuple_a=3,4\n",
    "tuple_b=(3,4)\n",
    "print(tuple_a == tuple_b)\n",
    "print(tuple_a[1])"
   ]
  },
  {
   "cell_type": "code",
   "execution_count": 11,
   "metadata": {},
   "outputs": [
    {
     "name": "stdout",
     "output_type": "stream",
     "text": [
      "Albert&Ben&Carol&Donna\n"
     ]
    }
   ],
   "source": [
    "#question5\n",
    "names=[\"Carol\",\"Albert\",\"Ben\",\"Donna\"]\n",
    "print(\"&\".join(sorted(names)))"
   ]
  },
  {
   "cell_type": "code",
   "execution_count": null,
   "metadata": {},
   "outputs": [],
   "source": []
  }
 ],
 "metadata": {
  "kernelspec": {
   "display_name": "Python 3",
   "language": "python",
   "name": "python3"
  },
  "language_info": {
   "codemirror_mode": {
    "name": "ipython",
    "version": 3
   },
   "file_extension": ".py",
   "mimetype": "text/x-python",
   "name": "python",
   "nbconvert_exporter": "python",
   "pygments_lexer": "ipython3",
   "version": "3.7.6"
  }
 },
 "nbformat": 4,
 "nbformat_minor": 4
}
